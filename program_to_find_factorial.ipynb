{
  "nbformat": 4,
  "nbformat_minor": 0,
  "metadata": {
    "colab": {
      "provenance": []
    },
    "kernelspec": {
      "name": "python3",
      "display_name": "Python 3"
    },
    "language_info": {
      "name": "python"
    }
  },
  "cells": [
    {
      "cell_type": "markdown",
      "source": [
        "**Program to find the factorial in**"
      ],
      "metadata": {
        "id": "cZqkugSYE9rU"
      }
    },
    {
      "cell_type": "code",
      "source": [
        "number= int(input(\"Enter the number: \"))\n",
        "factorial = 1\n",
        "for i in range(1,number + 1):\n",
        "  factorial*=i\n",
        "  print(\"the factorial is:\",factorial)"
      ],
      "metadata": {
        "colab": {
          "base_uri": "https://localhost:8080/"
        },
        "id": "ttg4uS7KFRLC",
        "outputId": "a1fbd6ee-d44e-440e-f0fb-2cef76a9f57a"
      },
      "execution_count": null,
      "outputs": [
        {
          "output_type": "stream",
          "name": "stdout",
          "text": [
            "Enter the number: 5\n",
            "the factorial is: 1\n",
            "the factorial is: 2\n",
            "the factorial is: 6\n",
            "the factorial is: 24\n",
            "the factorial is: 120\n"
          ]
        }
      ]
    }
  ]
}