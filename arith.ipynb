{
  "nbformat": 4,
  "nbformat_minor": 0,
  "metadata": {
    "colab": {
      "provenance": []
    },
    "kernelspec": {
      "name": "python3",
      "display_name": "Python 3"
    },
    "language_info": {
      "name": "python"
    }
  },
  "cells": [
    {
      "cell_type": "code",
      "execution_count": 1,
      "metadata": {
        "colab": {
          "base_uri": "https://localhost:8080/"
        },
        "id": "RPE7BIFFBmT2",
        "outputId": "286b94f0-9b56-401a-9eb1-fcbdc72f4972"
      },
      "outputs": [
        {
          "output_type": "stream",
          "name": "stdout",
          "text": [
            "enter a number: 25\n",
            "enter a number: 5\n",
            "30\n",
            "20\n",
            "125\n",
            "5.0\n",
            "0\n",
            "9765625\n"
          ]
        }
      ],
      "source": [
        "a= int(input(\"enter a number: \"))\n",
        "b= int(input(\"enter a number: \"))\n",
        "print(a+b)\n",
        "print(a-b)\n",
        "print(a*b)\n",
        "print(a/b)\n",
        "print(a%b)\n",
        "print(a**b)\n"
      ]
    }
  ]
}