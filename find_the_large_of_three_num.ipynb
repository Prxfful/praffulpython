{
  "nbformat": 4,
  "nbformat_minor": 0,
  "metadata": {
    "colab": {
      "provenance": []
    },
    "kernelspec": {
      "name": "python3",
      "display_name": "Python 3"
    },
    "language_info": {
      "name": "python"
    }
  },
  "cells": [
    {
      "cell_type": "markdown",
      "source": [
        "**Find the largest of three numbers***\n",
        "\n",
        "\n",
        "\n"
      ],
      "metadata": {
        "id": "9Nq_jaz8gWEP"
      }
    },
    {
      "cell_type": "code",
      "source": [
        "num1=int(input(\"Enter first number:\"))\n",
        "num2=int(input(\"Enter second number:\"))\n",
        "num3=int(input(\"Enter third number:\"))\n",
        "if num1 >= num2 and num1 >= num3:\n",
        "  print(\"largest number is:\",num1)\n",
        "elif num2 >= num3:\n",
        "  print(\"largest number is:\",num2)\n",
        "else:\n",
        "  print(\"largest number is:\",num3)"
      ],
      "metadata": {
        "colab": {
          "base_uri": "https://localhost:8080/"
        },
        "id": "Hh_cKRc8gbzs",
        "outputId": "817b9498-7ebd-4548-c0ec-b722f76c87a9"
      },
      "execution_count": null,
      "outputs": [
        {
          "output_type": "stream",
          "name": "stdout",
          "text": [
            "Enter first number:20\n",
            "Enter second number:24\n",
            "Enter third number:67\n",
            "largest number is: 67\n"
          ]
        }
      ]
    },
    {
      "cell_type": "code",
      "source": [
        "a =int(input(\"Enter a number:\"))\n",
        "if a>0:\n",
        "  print(\"Positive\")\n",
        "elif a<0:\n",
        "  print(\"Negative\")\n",
        "else:\n",
        "  print(\"Zero\")"
      ],
      "metadata": {
        "colab": {
          "base_uri": "https://localhost:8080/"
        },
        "id": "HuYSOyI5ijrb",
        "outputId": "a19a1a95-ac03-4429-9a3b-7fda16539ab6"
      },
      "execution_count": null,
      "outputs": [
        {
          "output_type": "stream",
          "name": "stdout",
          "text": [
            "Enter a number:67\n",
            "Positive\n"
          ]
        }
      ]
    }
  ]
}