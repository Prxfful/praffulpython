{
  "nbformat": 4,
  "nbformat_minor": 0,
  "metadata": {
    "colab": {
      "provenance": []
    },
    "kernelspec": {
      "name": "python3",
      "display_name": "Python 3"
    },
    "language_info": {
      "name": "python"
    }
  },
  "cells": [
    {
      "cell_type": "code",
      "execution_count": 1,
      "metadata": {
        "colab": {
          "base_uri": "https://localhost:8080/"
        },
        "id": "8LvuG8DTnm71",
        "outputId": "6a335f02-ab36-4f94-d16f-c42790626785"
      },
      "outputs": [
        {
          "output_type": "stream",
          "name": "stdout",
          "text": [
            "Enter the number93\n",
            "grade: A\n"
          ]
        }
      ],
      "source": [
        "# if-elif-else statement:\n",
        "marks = int(input(\"Enter the number\"))\n",
        "if marks>=90:\n",
        "  print(\"grade: A\")\n",
        "elif marks >=75:\n",
        "    print(\"grade: B\")\n",
        "elif marks >=50:\n",
        "    print(\"grade: C\")\n",
        "else:\n",
        "   print(\"grade: F\")"
      ]
    }
  ]
}