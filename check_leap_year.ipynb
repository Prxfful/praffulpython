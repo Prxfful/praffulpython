{
  "nbformat": 4,
  "nbformat_minor": 0,
  "metadata": {
    "colab": {
      "provenance": []
    },
    "kernelspec": {
      "name": "python3",
      "display_name": "Python 3"
    },
    "language_info": {
      "name": "python"
    }
  },
  "cells": [
    {
      "cell_type": "markdown",
      "source": [
        "**Check leap year**"
      ],
      "metadata": {
        "id": "CCz-pWQMd3fG"
      }
    },
    {
      "cell_type": "code",
      "source": [
        "year = int(input(\"Enter the year:\"))\n",
        "if(year % 4==0 and year % 100!=0)or(year % 400==0):\n",
        "  print(\"Leap year\")\n",
        "else:\n",
        "  print9(\"Not a Leap year\")"
      ],
      "metadata": {
        "colab": {
          "base_uri": "https://localhost:8080/"
        },
        "id": "ixsHbj6od7WI",
        "outputId": "23afab6a-92b1-44e1-c32f-a81e6bb18f73"
      },
      "execution_count": null,
      "outputs": [
        {
          "output_type": "stream",
          "name": "stdout",
          "text": [
            "Enter the year:2024\n",
            "Leap year\n"
          ]
        }
      ]
    }
  ]
}