{
  "nbformat": 4,
  "nbformat_minor": 0,
  "metadata": {
    "colab": {
      "provenance": []
    },
    "kernelspec": {
      "name": "python3",
      "display_name": "Python 3"
    },
    "language_info": {
      "name": "python"
    }
  },
  "cells": [
    {
      "cell_type": "markdown",
      "source": [
        "**Sum of number in the range**"
      ],
      "metadata": {
        "id": "OV84O2BBDSXm"
      }
    },
    {
      "cell_type": "code",
      "source": [
        "start=int(input(\"Enter the start of the range: \"))\n",
        "end =int(input(\"Enter the end of the range: \"))\n",
        "sum = 0\n",
        "for i in range(start, end + 1):\n",
        "   sum += i\n",
        "print(\"the sum is:\",sum)"
      ],
      "metadata": {
        "colab": {
          "base_uri": "https://localhost:8080/"
        },
        "id": "smnBMTFfDX7q",
        "outputId": "76b7da2c-20fa-4a6c-f02d-eb3d6b8b8d6c"
      },
      "execution_count": null,
      "outputs": [
        {
          "output_type": "stream",
          "name": "stdout",
          "text": [
            "Enter the start of the range: 5\n",
            "Enter the end of the range: 10\n",
            "the sum is: 45\n"
          ]
        }
      ]
    }
  ]
}