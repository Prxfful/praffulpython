{
  "nbformat": 4,
  "nbformat_minor": 0,
  "metadata": {
    "colab": {
      "provenance": []
    },
    "kernelspec": {
      "name": "python3",
      "display_name": "Python 3"
    },
    "language_info": {
      "name": "python"
    }
  },
  "cells": [
    {
      "cell_type": "markdown",
      "source": [
        "**Error Handling**"
      ],
      "metadata": {
        "id": "pBefmxY30vu5"
      }
    },
    {
      "cell_type": "code",
      "source": [
        "#Try-Except Block\n",
        "try:\n",
        "  num = int(input(\"Enter the number:\"))\n",
        "  print(10 / num)\n",
        "except ZeroDivisionError:\n",
        "  print(\"you can not divide by zero\")\n"
      ],
      "metadata": {
        "colab": {
          "base_uri": "https://localhost:8080/"
        },
        "id": "UdQHklCn0uNQ",
        "outputId": "9c9930f9-aa90-481e-d670-109166ba18bb"
      },
      "execution_count": null,
      "outputs": [
        {
          "output_type": "stream",
          "name": "stdout",
          "text": [
            "Enter the number:0\n",
            "you can not divide by zero\n"
          ]
        }
      ]
    },
    {
      "cell_type": "code",
      "source": [
        "#final block\n",
        "try:\n",
        "  num = int(input(\"Enter the number:\"))\n",
        "  print(10 / num)\n",
        "except ZeroDivisionError:\n",
        "  print(\"you can not divide by zero\")\n",
        "finally:\n",
        "  print(\"execution is done\")\n",
        "\n"
      ],
      "metadata": {
        "colab": {
          "base_uri": "https://localhost:8080/"
        },
        "id": "fDk815L187nk",
        "outputId": "e5141db9-5d50-4c1d-ed16-a5d34534bac5"
      },
      "execution_count": null,
      "outputs": [
        {
          "output_type": "stream",
          "name": "stdout",
          "text": [
            "Enter the number:0\n",
            "you can not divide by zero\n",
            "execution is done\n"
          ]
        }
      ]
    },
    {
      "cell_type": "code",
      "source": [
        "#Raising Exceptions\n",
        "def check_age(age):\n",
        "  if age < 18:\n",
        "    raise valueError(\"age must be 18 or older\")\n",
        "    return True\n",
        "    try:\n",
        "      check_age(17)\n",
        "    except ValueError as e:\n",
        "      print(e)\n",
        "\n"
      ],
      "metadata": {
        "id": "7fTuGqMs9kQ9"
      },
      "execution_count": null,
      "outputs": []
    }
  ]
}