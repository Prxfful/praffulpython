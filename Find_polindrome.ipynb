{
  "nbformat": 4,
  "nbformat_minor": 0,
  "metadata": {
    "colab": {
      "provenance": []
    },
    "kernelspec": {
      "name": "python3",
      "display_name": "Python 3"
    },
    "language_info": {
      "name": "python"
    }
  },
  "cells": [
    {
      "cell_type": "markdown",
      "source": [
        "**to find whether it is polindrome**"
      ],
      "metadata": {
        "id": "MprjXrto3ZBW"
      }
    },
    {
      "cell_type": "code",
      "source": [
        "#Polindrome (integer polindrome)\n",
        "number = int(input(\"enter a number: \"))\n",
        "reverse_number = 0\n",
        "temp = number\n",
        "\n",
        "while temp > 0:\n",
        "  digit = temp % 10\n",
        "  reverse_number = reverse_number * 10 + digit\n",
        "  temp = temp // 10\n",
        "\n",
        "if number == reverse_number:\n",
        "  print(f\"{number} is a polindrome\")\n",
        "else:\n",
        "  print(f\"{number} is not a polindrome\")"
      ],
      "metadata": {
        "colab": {
          "base_uri": "https://localhost:8080/"
        },
        "id": "d7vomz9g3eoC",
        "outputId": "aa46c860-51e0-49d5-b8e8-8ec04e870ff0"
      },
      "execution_count": null,
      "outputs": [
        {
          "output_type": "stream",
          "name": "stdout",
          "text": [
            "enter a number: 242\n",
            "242 is a polindrome\n"
          ]
        }
      ]
    },
    {
      "cell_type": "code",
      "source": [
        "#Polindrome (string polindrome)\n",
        "num = input(\"Enter a word: \")\n",
        "if num == num[::-1]:\n",
        "  print(f\"{num} is a polindrome\")\n",
        "else:\n",
        "  print(f\"{num} is not a polindrome\")"
      ],
      "metadata": {
        "colab": {
          "base_uri": "https://localhost:8080/"
        },
        "id": "bkdzF3AG45Tm",
        "outputId": "90b49cec-1749-4e62-a3c0-8526ffcb4a1e"
      },
      "execution_count": null,
      "outputs": [
        {
          "output_type": "stream",
          "name": "stdout",
          "text": [
            "Enter a word: SOS\n",
            "SOS is a polindrome\n"
          ]
        }
      ]
    }
  ]
}