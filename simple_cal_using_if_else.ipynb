{
  "nbformat": 4,
  "nbformat_minor": 0,
  "metadata": {
    "colab": {
      "provenance": []
    },
    "kernelspec": {
      "name": "python3",
      "display_name": "Python 3"
    },
    "language_info": {
      "name": "python"
    }
  },
  "cells": [
    {
      "cell_type": "markdown",
      "source": [
        "**Simple calculator using if-else**"
      ],
      "metadata": {
        "id": "Vu5UweQgUju9"
      }
    },
    {
      "cell_type": "code",
      "source": [
        "num1=float(input(\"Enter the first number:\"))\n",
        "num2=float(input(\"Enter the second number:\"))\n",
        "operation=input(\"Enter operation(+,-,*,/,//,%,**):\")\n",
        "if operation == '+':\n",
        "  print(\"result:\",num1+num2)\n",
        "elif operation == '-':\n",
        "  print(\"result:\",num1-num2)\n",
        "elif operation == '*':\n",
        "  print(\"result:\",num1*num2)\n",
        "elif operation == '/':\n",
        "  print(\"result:\",num1/num2)\n",
        "elif operation =='//':\n",
        "  print(\"result:\",num1//num2)\n",
        "elif operation =='%':\n",
        "  print(\"result:\",num1%num2)\n",
        "elif operation =='**':\n",
        "  print(\"result:\",num1-num2)\n",
        "else:\n",
        "  print(\"invalid operation\")"
      ],
      "metadata": {
        "colab": {
          "base_uri": "https://localhost:8080/"
        },
        "id": "l_yjwunMUtH2",
        "outputId": "c56e3dc5-c8b9-405e-f9a8-37218411e9ea"
      },
      "execution_count": null,
      "outputs": [
        {
          "output_type": "stream",
          "name": "stdout",
          "text": [
            "Enter the first number:24\n",
            "Enter the second number:20\n",
            "Enter operation(+,-,*,/,//,%,**):**\n",
            "result: 4.0\n"
          ]
        }
      ]
    }
  ]
}