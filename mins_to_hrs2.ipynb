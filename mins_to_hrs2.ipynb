{
  "nbformat": 4,
  "nbformat_minor": 0,
  "metadata": {
    "colab": {
      "provenance": []
    },
    "kernelspec": {
      "name": "python3",
      "display_name": "Python 3"
    },
    "language_info": {
      "name": "python"
    }
  },
  "cells": [
    {
      "cell_type": "code",
      "execution_count": 3,
      "metadata": {
        "colab": {
          "base_uri": "https://localhost:8080/"
        },
        "id": "g-dlnjZZI38E",
        "outputId": "9b1ef688-b981-4df9-b469-f82e4846f132"
      },
      "outputs": [
        {
          "output_type": "stream",
          "name": "stdout",
          "text": [
            "enter minutes: 150\n",
            "Time: 2.5 hours and 30 minutes: \n"
          ]
        }
      ],
      "source": [
        "#convert minutes in hours\n",
        "a=int(input(\"enter minutes: \"))\n",
        "hours=a/60\n",
        "b=a%60\n",
        "print(f\"Time: {hours} hours and {b} minutes: \")"
      ]
    }
  ]
}