{
  "nbformat": 4,
  "nbformat_minor": 0,
  "metadata": {
    "colab": {
      "provenance": []
    },
    "kernelspec": {
      "name": "python3",
      "display_name": "Python 3"
    },
    "language_info": {
      "name": "python"
    }
  },
  "cells": [
    {
      "cell_type": "code",
      "execution_count": null,
      "metadata": {
        "id": "SjkZZKOAoDtE",
        "outputId": "6e7e02b7-1fbe-4cbe-98f2-be1348177dec",
        "colab": {
          "base_uri": "https://localhost:8080/"
        }
      },
      "outputs": [
        {
          "output_type": "stream",
          "name": "stdout",
          "text": [
            "interation: 0\n",
            "interation: 1\n",
            "interation: 2\n",
            "interation: 3\n",
            "interation: 4\n"
          ]
        }
      ],
      "source": [
        "for i in range(5):\n",
        "  print(\"interation:\",i)"
      ]
    },
    {
      "cell_type": "code",
      "source": [
        "for i in range(5,10):\n",
        "  print(\"interation:\",i)"
      ],
      "metadata": {
        "colab": {
          "base_uri": "https://localhost:8080/"
        },
        "id": "_uQmC6R7oU74",
        "outputId": "f8acf418-abe7-48d7-b70c-dc47dcf99a71"
      },
      "execution_count": null,
      "outputs": [
        {
          "output_type": "stream",
          "name": "stdout",
          "text": [
            "interation: 5\n",
            "interation: 6\n",
            "interation: 7\n",
            "interation: 8\n",
            "interation: 9\n"
          ]
        }
      ]
    }
  ]
}