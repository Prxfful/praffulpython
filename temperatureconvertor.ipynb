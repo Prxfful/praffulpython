{
  "nbformat": 4,
  "nbformat_minor": 0,
  "metadata": {
    "colab": {
      "provenance": []
    },
    "kernelspec": {
      "name": "python3",
      "display_name": "Python 3"
    },
    "language_info": {
      "name": "python"
    }
  },
  "cells": [
    {
      "cell_type": "code",
      "execution_count": 1,
      "metadata": {
        "colab": {
          "base_uri": "https://localhost:8080/"
        },
        "id": "CKJU739xEWfL",
        "outputId": "6bb4016d-d21f-4044-d222-5ec3a00b7672"
      },
      "outputs": [
        {
          "output_type": "stream",
          "name": "stdout",
          "text": [
            "enter temperature in celsius: 37\n",
            "temperature in Fahrenheit: 98.6\n"
          ]
        }
      ],
      "source": [
        "#temperature converter\n",
        "celsius=float(input(\"enter temperature in celsius: \"))\n",
        "fahrenheit= (celsius*9/5) + 32\n",
        "print(\"temperature in Fahrenheit:\", fahrenheit)"
      ]
    }
  ]
}