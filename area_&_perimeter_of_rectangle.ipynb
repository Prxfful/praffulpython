{
  "nbformat": 4,
  "nbformat_minor": 0,
  "metadata": {
    "colab": {
      "provenance": []
    },
    "kernelspec": {
      "name": "python3",
      "display_name": "Python 3"
    },
    "language_info": {
      "name": "python"
    }
  },
  "cells": [
    {
      "cell_type": "code",
      "execution_count": 1,
      "metadata": {
        "colab": {
          "base_uri": "https://localhost:8080/"
        },
        "id": "kDj-0kaeIUsn",
        "outputId": "c03e1c65-fcd2-449a-d0ae-b7e415ce0e91"
      },
      "outputs": [
        {
          "output_type": "stream",
          "name": "stdout",
          "text": [
            "Enter the length of the rectangle: 24\n",
            "Enter the width of the rectangle: 12\n",
            "Area of the rectangle: 288.0\n",
            "Perimeter of the rectangle: 72.0\n"
          ]
        }
      ],
      "source": [
        "#area and perimeter of the rectangle\n",
        "l = float(input(\"Enter the length of the rectangle: \"))\n",
        "b = float(input(\"Enter the width of the rectangle: \"))\n",
        "area = l * b\n",
        "perimeter = 2 * (l + b)\n",
        "print(\"Area of the rectangle:\", area)\n",
        "print(\"Perimeter of the rectangle:\", perimeter)"
      ]
    }
  ]
}