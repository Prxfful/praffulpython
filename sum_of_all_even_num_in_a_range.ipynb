{
  "nbformat": 4,
  "nbformat_minor": 0,
  "metadata": {
    "colab": {
      "provenance": []
    },
    "kernelspec": {
      "name": "python3",
      "display_name": "Python 3"
    },
    "language_info": {
      "name": "python"
    }
  },
  "cells": [
    {
      "cell_type": "markdown",
      "source": [
        "**Sum of all Even numbers in a range**"
      ],
      "metadata": {
        "id": "lw2VvPb9lFee"
      }
    },
    {
      "cell_type": "code",
      "source": [
        "Start= int(input(\"Enter the start of range: \"))\n",
        "end = int(input(\"Enter the end of number: \"))\n",
        "even_sum=0\n",
        "for num in range(start,end+1):\n",
        "  if num%2==0:\n",
        "   even_sum+=num\n",
        "  print(\"Sum of even number is:\",even_sum)"
      ],
      "metadata": {
        "colab": {
          "base_uri": "https://localhost:8080/"
        },
        "id": "nJbF3DP1lLoS",
        "outputId": "838710a7-d4cf-4050-e5c4-ac18c79d327b"
      },
      "execution_count": null,
      "outputs": [
        {
          "output_type": "stream",
          "name": "stdout",
          "text": [
            "Enter the start of range: 5\n",
            "Enter the end of number: 15\n",
            "Sum of even number is: 0\n",
            "Sum of even number is: 6\n",
            "Sum of even number is: 6\n",
            "Sum of even number is: 14\n",
            "Sum of even number is: 14\n",
            "Sum of even number is: 24\n",
            "Sum of even number is: 24\n",
            "Sum of even number is: 36\n",
            "Sum of even number is: 36\n",
            "Sum of even number is: 50\n",
            "Sum of even number is: 50\n"
          ]
        }
      ]
    }
  ]
}