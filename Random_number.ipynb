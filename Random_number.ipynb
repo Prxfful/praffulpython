{
  "nbformat": 4,
  "nbformat_minor": 0,
  "metadata": {
    "colab": {
      "provenance": []
    },
    "kernelspec": {
      "name": "python3",
      "display_name": "Python 3"
    },
    "language_info": {
      "name": "python"
    }
  },
  "cells": [
    {
      "cell_type": "code",
      "source": [
        "#Generate a random number between 1 and 6\n",
        "import random\n",
        "random_number = random.randint(1,6)\n",
        "print(\"the random number is:\",random_number)"
      ],
      "metadata": {
        "colab": {
          "base_uri": "https://localhost:8080/"
        },
        "id": "_E9GKoDXY_wC",
        "outputId": "842c7347-5d99-421b-861d-eaebbd88a8f7"
      },
      "execution_count": null,
      "outputs": [
        {
          "output_type": "stream",
          "name": "stdout",
          "text": [
            "the random number is: 1\n"
          ]
        }
      ]
    }
  ]
}