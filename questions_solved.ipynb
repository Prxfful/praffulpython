{
  "nbformat": 4,
  "nbformat_minor": 0,
  "metadata": {
    "colab": {
      "provenance": []
    },
    "kernelspec": {
      "name": "python3",
      "display_name": "Python 3"
    },
    "language_info": {
      "name": "python"
    }
  },
  "cells": [
    {
      "cell_type": "code",
      "source": [
        "#1\n",
        "num=float(input(\"Enter the number:\"))\n",
        "if num>0:\n",
        "  print(\"Positive number\")\n",
        "elif num<0:\n",
        "  print(\"Negative number\")\n",
        "else:\n",
        "  print(\"the number is zero\")"
      ],
      "metadata": {
        "colab": {
          "base_uri": "https://localhost:8080/"
        },
        "id": "0w9aujecA2o_",
        "outputId": "0783bf0b-61ee-4c24-8679-054da0a9622d"
      },
      "execution_count": null,
      "outputs": [
        {
          "output_type": "stream",
          "name": "stdout",
          "text": [
            "Enter the number:0\n",
            "the number is zero\n"
          ]
        }
      ]
    },
    {
      "cell_type": "code",
      "source": [
        "#2\n",
        "num1=int(input(\"Enter first number:\"))\n",
        "num2=int(input(\"Enter second number:\"))\n",
        "num3=int(input(\"Enter third number:\"))\n",
        "if num1>=num2 and num1>=num3:\n",
        "  print(\"Largest number is:\",num1)\n",
        "elif num2>=num3:\n",
        "  print(\"Largest number is:\",num2)\n",
        "else:\n",
        "  print(\"Largest number is:\",num3)\n"
      ],
      "metadata": {
        "colab": {
          "base_uri": "https://localhost:8080/"
        },
        "id": "XX4lFTCkBnEb",
        "outputId": "e4c60dc0-3ee6-487b-8727-6c6c85bb32b4"
      },
      "execution_count": null,
      "outputs": [
        {
          "output_type": "stream",
          "name": "stdout",
          "text": [
            "Enter first number:12\n",
            "Enter second number:55\n",
            "Enter third number:67\n",
            "Largest number is: 67\n"
          ]
        }
      ]
    },
    {
      "cell_type": "code",
      "source": [
        "#3\n",
        "num=int(input(\"Enter the number: \"))\n",
        "if num % 2 ==0:\n",
        "  print(\"even number\")\n",
        "else:\n",
        "  print(\"odd number\")"
      ],
      "metadata": {
        "colab": {
          "base_uri": "https://localhost:8080/"
        },
        "id": "SEWGu9zNDPlG",
        "outputId": "106a5ba9-801e-445d-80d2-3640b90e1e56"
      },
      "execution_count": null,
      "outputs": [
        {
          "output_type": "stream",
          "name": "stdout",
          "text": [
            "Enter the number: 31\n",
            "odd number\n"
          ]
        }
      ]
    },
    {
      "cell_type": "code",
      "source": [
        "#4\n",
        "num=int(input(\"Enter the number:\"))\n",
        "if num % 2==0 and num % 3==0:\n",
        "  print(f\"{num} is divisible by 2 and 3\")\n",
        "else:\n",
        "  print(f\"{num} is not divisible by 2 and 3\")"
      ],
      "metadata": {
        "colab": {
          "base_uri": "https://localhost:8080/"
        },
        "id": "5-yin8AZE9Tm",
        "outputId": "aa4aef4b-6ccf-4bdd-fd9a-95fba9d2c6ba"
      },
      "execution_count": null,
      "outputs": [
        {
          "output_type": "stream",
          "name": "stdout",
          "text": [
            "Enter the number:24\n",
            "24 is divisible by 2 and 3\n"
          ]
        }
      ]
    },
    {
      "cell_type": "code",
      "source": [
        "#5\n",
        "year=int(input(\"Enter the number:\"))\n",
        "if (year % 4==0 and year % 100!=0) or (year % 400==0):\n",
        "  print(\"leap year\")\n",
        "else:\n",
        "  print(\"Not leap year\")"
      ],
      "metadata": {
        "colab": {
          "base_uri": "https://localhost:8080/"
        },
        "id": "k9TAH4ULHGKu",
        "outputId": "9a8d0796-dfdb-4f49-8406-d0553446eb06"
      },
      "execution_count": null,
      "outputs": [
        {
          "output_type": "stream",
          "name": "stdout",
          "text": [
            "Enter the number:2024\n",
            "leap year\n"
          ]
        }
      ]
    },
    {
      "cell_type": "code",
      "source": [
        "#6\n",
        "num=int(input(\"Enter the number:\"))\n",
        "if num>10:\n",
        "  print(\"hello\")\n",
        "else:\n",
        "  print(\"Good bye\")"
      ],
      "metadata": {
        "colab": {
          "base_uri": "https://localhost:8080/"
        },
        "id": "wAbkphB_JZqb",
        "outputId": "fa10003f-a3a5-415a-cfca-e7991f1a3787"
      },
      "execution_count": null,
      "outputs": [
        {
          "output_type": "stream",
          "name": "stdout",
          "text": [
            "Enter the number:24\n",
            "hello\n"
          ]
        }
      ]
    },
    {
      "cell_type": "code",
      "source": [
        "#7\n",
        "num=int(input(\"Enter the number:\"))\n",
        "if (num % 5==0) and (num % 10!=0):\n",
        " print(f\"{num} is divisible by 5 but not 10\")\n",
        "else:\n",
        " print(f\"{num} doesn't satisfy the conditon\")"
      ],
      "metadata": {
        "colab": {
          "base_uri": "https://localhost:8080/"
        },
        "id": "UP-MUZJwKtil",
        "outputId": "77f64338-3ba7-4a08-a7dc-a70873276daa"
      },
      "execution_count": null,
      "outputs": [
        {
          "output_type": "stream",
          "name": "stdout",
          "text": [
            "Enter the number:60\n",
            "60 doesn't satisfy the conditon\n"
          ]
        }
      ]
    },
    {
      "cell_type": "code",
      "source": [
        "#8\n",
        "number=int(input(\"Enter the number:\"))\n",
        "if 100 <= number <= 200:\n",
        "  print(f\"{number} is between 100 and 200\")\n",
        "else:\n",
        "  print(f\"{number} is not between 100 and 200\")"
      ],
      "metadata": {
        "colab": {
          "base_uri": "https://localhost:8080/"
        },
        "id": "kpf6t9iEM0b6",
        "outputId": "f9b66358-6b68-44ca-a7e5-7aa72eb6e3d2"
      },
      "execution_count": null,
      "outputs": [
        {
          "output_type": "stream",
          "name": "stdout",
          "text": [
            "Enter the number:100\n",
            "100 is between 100 and 200\n"
          ]
        }
      ]
    },
    {
      "cell_type": "code",
      "source": [
        "#9\n",
        "num=int(input(\"Enter the number: \"))\n",
        "if 50 < num < 100:\n",
        "  print(f\"{num} in between 50 and 100 (exclusive)\")\n",
        "else:\n",
        "  print(f\"{num} is not satisfied\")\n"
      ],
      "metadata": {
        "colab": {
          "base_uri": "https://localhost:8080/"
        },
        "id": "5JoJfWnYQ3vp",
        "outputId": "1f3d5ed0-04c6-4740-a3bd-11917b819d5a"
      },
      "execution_count": null,
      "outputs": [
        {
          "output_type": "stream",
          "name": "stdout",
          "text": [
            "Enter the number: 67\n",
            "67 in between 50 and 100 (exclusive)\n"
          ]
        }
      ]
    },
    {
      "cell_type": "code",
      "source": [
        "#10\n",
        "num=int(input(\"Enter the number:\"))\n",
        "if (num > 100) and (num < 500):\n",
        "  print(\"print a message\")\n",
        "else:\n",
        "  print(\"not satisfy the condition\")"
      ],
      "metadata": {
        "colab": {
          "base_uri": "https://localhost:8080/"
        },
        "id": "xXOgBFeYPYB5",
        "outputId": "8c898214-38ed-4476-bb89-a1ab202e7dfc"
      },
      "execution_count": null,
      "outputs": [
        {
          "output_type": "stream",
          "name": "stdout",
          "text": [
            "Enter the number:224\n",
            "print a message\n"
          ]
        }
      ]
    },
    {
      "cell_type": "code",
      "source": [
        "#11\n",
        "for number in range(1,11):\n",
        "  print(number)"
      ],
      "metadata": {
        "colab": {
          "base_uri": "https://localhost:8080/"
        },
        "id": "A1JS0DnCTC3k",
        "outputId": "24ceb318-7f59-466a-b4a6-0170c171885e"
      },
      "execution_count": null,
      "outputs": [
        {
          "output_type": "stream",
          "name": "stdout",
          "text": [
            "1\n",
            "2\n",
            "3\n",
            "4\n",
            "5\n",
            "6\n",
            "7\n",
            "8\n",
            "9\n",
            "10\n"
          ]
        }
      ]
    },
    {
      "cell_type": "code",
      "source": [
        "#12\n",
        "for number in range(2,21,2):\n",
        "  print(number)"
      ],
      "metadata": {
        "colab": {
          "base_uri": "https://localhost:8080/"
        },
        "id": "XIt8HBZmT4OP",
        "outputId": "b99be38b-aea4-4d1b-b1ae-c6a1b4b9bfa0"
      },
      "execution_count": null,
      "outputs": [
        {
          "output_type": "stream",
          "name": "stdout",
          "text": [
            "2\n",
            "4\n",
            "6\n",
            "8\n",
            "10\n",
            "12\n",
            "14\n",
            "16\n",
            "18\n",
            "20\n"
          ]
        }
      ]
    }
  ]
}