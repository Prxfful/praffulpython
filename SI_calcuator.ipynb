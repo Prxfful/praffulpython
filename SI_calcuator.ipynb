{
  "nbformat": 4,
  "nbformat_minor": 0,
  "metadata": {
    "colab": {
      "provenance": []
    },
    "kernelspec": {
      "name": "python3",
      "display_name": "Python 3"
    },
    "language_info": {
      "name": "python"
    }
  },
  "cells": [
    {
      "cell_type": "code",
      "execution_count": 4,
      "metadata": {
        "colab": {
          "base_uri": "https://localhost:8080/"
        },
        "id": "lOKdBqrbGGZP",
        "outputId": "6cc06f78-cbd7-49fe-876b-7a95f31f966e"
      },
      "outputs": [
        {
          "output_type": "stream",
          "name": "stdout",
          "text": [
            "Enter the principal amount: 1000\n",
            "Enter number of year: 1\n",
            "Enter the rate of interest: 10\n",
            "The Simple Interest is: 100.0\n"
          ]
        }
      ],
      "source": [
        "p = float(input(\"Enter the principal amount: \"))\n",
        "n = float(input(\"Enter number of year: \"))\n",
        "r = float(input(\"Enter the rate of interest: \"))\n",
        "interest = (p * n * r ) / 100\n",
        "print(\"The Simple Interest is:\", interest)"
      ]
    }
  ]
}