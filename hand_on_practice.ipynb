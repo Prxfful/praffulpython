{
  "nbformat": 4,
  "nbformat_minor": 0,
  "metadata": {
    "colab": {
      "provenance": []
    },
    "kernelspec": {
      "name": "python3",
      "display_name": "Python 3"
    },
    "language_info": {
      "name": "python"
    }
  },
  "cells": [
    {
      "cell_type": "markdown",
      "source": [
        "**Hands-on practice**"
      ],
      "metadata": {
        "id": "eRTgBMrvCUTE"
      }
    },
    {
      "cell_type": "code",
      "source": [
        "number=int(input(\"Enter the number\"))\n",
        "if number% 2 ==0:\n",
        "  print(\"the number is even\")\n",
        "else:\n",
        "  print(\"the number is odd\")"
      ],
      "metadata": {
        "colab": {
          "base_uri": "https://localhost:8080/"
        },
        "id": "wEEPo5sVCZQk",
        "outputId": "7d57c237-bb47-4b72-d610-75afc9a32843"
      },
      "execution_count": null,
      "outputs": [
        {
          "output_type": "stream",
          "name": "stdout",
          "text": [
            "Enter the number20\n",
            "the number is even\n"
          ]
        }
      ]
    }
  ]
}