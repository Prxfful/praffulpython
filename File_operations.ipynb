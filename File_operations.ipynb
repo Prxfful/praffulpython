{
  "nbformat": 4,
  "nbformat_minor": 0,
  "metadata": {
    "colab": {
      "provenance": []
    },
    "kernelspec": {
      "name": "python3",
      "display_name": "Python 3"
    },
    "language_info": {
      "name": "python"
    }
  },
  "cells": [
    {
      "cell_type": "code",
      "execution_count": null,
      "metadata": {
        "id": "eu4_410-1UDR"
      },
      "outputs": [],
      "source": []
    },
    {
      "cell_type": "markdown",
      "source": [
        "**File operatons**"
      ],
      "metadata": {
        "id": "5JhQ0lZ0j-1C"
      }
    },
    {
      "cell_type": "code",
      "source": [
        "#opening a file\n",
        "file=open(\"/content/prafful.txt\",\"r\")"
      ],
      "metadata": {
        "id": "tOHmhrZRjgML"
      },
      "execution_count": null,
      "outputs": []
    },
    {
      "cell_type": "code",
      "source": [
        "file=open(\"/content/prafful.txt\",\"w\")"
      ],
      "metadata": {
        "id": "3zymLiHKmmFP"
      },
      "execution_count": null,
      "outputs": []
    },
    {
      "cell_type": "code",
      "source": [
        "file=open(\"/content/prafful.txt\",\"w\")\n",
        "print(file.write(\"this is a old file,i am not good\\n\"))\n",
        "file.close()"
      ],
      "metadata": {
        "colab": {
          "base_uri": "https://localhost:8080/"
        },
        "id": "t6vyG73RmqGa",
        "outputId": "0bd1684b-8b18-4c69-9cec-24c8c0921fc6"
      },
      "execution_count": null,
      "outputs": [
        {
          "output_type": "stream",
          "name": "stdout",
          "text": [
            "33\n"
          ]
        }
      ]
    },
    {
      "cell_type": "code",
      "source": [
        "#Reading a file\n",
        "file = open(\"/content/prafful.txt\", \"r\")\n",
        "content = file.read()\n",
        "print(content)\n",
        "file.close()"
      ],
      "metadata": {
        "colab": {
          "base_uri": "https://localhost:8080/"
        },
        "id": "l-0CJHN5uh5T",
        "outputId": "46ba8d53-3ed0-4abb-8c3a-c135fc56ea95"
      },
      "execution_count": null,
      "outputs": [
        {
          "output_type": "stream",
          "name": "stdout",
          "text": [
            "this is a old file,i am not good\n",
            "sdiyfgis\n",
            "sojbjbvjisn\n",
            "oppopopopopopopopo\n",
            "apapapapapapapapappa\n",
            "alalalaalalalal\n"
          ]
        }
      ]
    },
    {
      "cell_type": "code",
      "source": [
        "#Writing a file\n",
        "file = open(\"/content/prafful.txt\",\"w\")\n",
        "print(file.write(\"This is an old but new file,but donot use it\\n\"))\n",
        "file.close()"
      ],
      "metadata": {
        "colab": {
          "base_uri": "https://localhost:8080/"
        },
        "id": "qBBQ2sPgxY6-",
        "outputId": "2be53ff3-1ee3-4e40-803c-729a03ad06b3"
      },
      "execution_count": null,
      "outputs": [
        {
          "output_type": "stream",
          "name": "stdout",
          "text": [
            "45\n"
          ]
        }
      ]
    },
    {
      "cell_type": "code",
      "source": [
        "#Appending to a file\n",
        "file = open(\"/content/prafful.txt\",\"a\")\n",
        "file.write(\"i am adding a appended line to this\\n\")\n",
        "file.close()"
      ],
      "metadata": {
        "id": "l9ySzTAzyKIh"
      },
      "execution_count": null,
      "outputs": []
    },
    {
      "cell_type": "code",
      "source": [
        "#using 'with' Statement\n",
        "with open(\"/content/prafful.txt\",\"r\") as file:\n",
        "  content=file.read()\n",
        "  print(content)"
      ],
      "metadata": {
        "colab": {
          "base_uri": "https://localhost:8080/"
        },
        "id": "wMsHjG5jy4vT",
        "outputId": "277bdbaf-629a-4da4-a9be-328ef77bdf99"
      },
      "execution_count": null,
      "outputs": [
        {
          "output_type": "stream",
          "name": "stdout",
          "text": [
            "This is an old but new file,but donot use it\n",
            "i am adding a appended line ti this\n",
            "i am adding a appended line to this\n",
            "\n"
          ]
        }
      ]
    },
    {
      "cell_type": "code",
      "source": [
        "#File Handling Modes\n",
        "with open(\"/content/scarface.jpg\",\"rb\") as file:\n",
        "  data = file.read()"
      ],
      "metadata": {
        "id": "KOVDtiAqzNlZ"
      },
      "execution_count": null,
      "outputs": []
    }
  ]
}