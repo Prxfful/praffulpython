{
  "nbformat": 4,
  "nbformat_minor": 0,
  "metadata": {
    "colab": {
      "provenance": []
    },
    "kernelspec": {
      "name": "python3",
      "display_name": "Python 3"
    },
    "language_info": {
      "name": "python"
    }
  },
  "cells": [
    {
      "cell_type": "code",
      "execution_count": 1,
      "metadata": {
        "colab": {
          "base_uri": "https://localhost:8080/"
        },
        "id": "g-dlnjZZI38E",
        "outputId": "5947ba41-2625-4121-a631-7eb464de3ae0"
      },
      "outputs": [
        {
          "output_type": "stream",
          "name": "stdout",
          "text": [
            "enter minutes: 56\n",
            "0.9333333333333333\n"
          ]
        }
      ],
      "source": [
        "#convert minutes in hours\n",
        "minute=int(input(\"enter minutes: \"))\n",
        "hours=minute/60\n",
        "print(hours)"
      ]
    }
  ]
}