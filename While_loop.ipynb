{
  "nbformat": 4,
  "nbformat_minor": 0,
  "metadata": {
    "colab": {
      "provenance": []
    },
    "kernelspec": {
      "name": "python3",
      "display_name": "Python 3"
    },
    "language_info": {
      "name": "python"
    }
  },
  "cells": [
    {
      "cell_type": "markdown",
      "source": [
        "**While Loops**"
      ],
      "metadata": {
        "id": "C-k1lPYzo7_t"
      }
    },
    {
      "cell_type": "code",
      "source": [
        "#while Loops:\n",
        "count= 0\n",
        "while count < 5:\n",
        "  print(\"count\",count)\n",
        "  count+= 1"
      ],
      "metadata": {
        "colab": {
          "base_uri": "https://localhost:8080/"
        },
        "id": "kJjjURNW7Tun",
        "outputId": "1bec4df4-bcca-41f8-df35-07afd54567b3"
      },
      "execution_count": null,
      "outputs": [
        {
          "output_type": "stream",
          "name": "stdout",
          "text": [
            "count 0\n",
            "count 1\n",
            "count 2\n",
            "count 3\n",
            "count 4\n"
          ]
        }
      ]
    }
  ]
}